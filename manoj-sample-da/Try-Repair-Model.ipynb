{
 "cells": [
  {
   "cell_type": "code",
   "execution_count": 1,
   "id": "4987f4a1-66ee-46e1-8e19-07fc2ef20bfd",
   "metadata": {},
   "outputs": [
    {
     "name": "stdout",
     "output_type": "stream",
     "text": [
      "Requirement already satisfied: markovify==0.9.3 in /opt/app-root/lib/python3.8/site-packages (from -r nb-requirements.txt (line 1)) (0.9.3)\n",
      "Requirement already satisfied: tensorflow==2.7.0 in /opt/app-root/lib/python3.8/site-packages (from -r nb-requirements.txt (line 2)) (2.7.0)\n",
      "Requirement already satisfied: scikit-learn==0.24.1 in /opt/app-root/lib/python3.8/site-packages (from -r nb-requirements.txt (line 3)) (0.24.1)\n",
      "Requirement already satisfied: numpy==1.19.2 in /opt/app-root/lib/python3.8/site-packages (from -r nb-requirements.txt (line 4)) (1.19.2)\n",
      "Requirement already satisfied: pandas==1.2.4 in /opt/app-root/lib/python3.8/site-packages (from -r nb-requirements.txt (line 5)) (1.2.4)\n",
      "Requirement already satisfied: keras==2.7.0 in /opt/app-root/lib/python3.8/site-packages (from -r nb-requirements.txt (line 6)) (2.7.0)\n",
      "Requirement already satisfied: unidecode in /opt/app-root/lib/python3.8/site-packages (from markovify==0.9.3->-r nb-requirements.txt (line 1)) (1.3.6)\n",
      "Requirement already satisfied: grpcio<2.0,>=1.24.3 in /opt/app-root/lib/python3.8/site-packages (from tensorflow==2.7.0->-r nb-requirements.txt (line 2)) (1.32.0)\n",
      "Requirement already satisfied: tensorflow-estimator<2.8,~=2.7.0rc0 in /opt/app-root/lib/python3.8/site-packages (from tensorflow==2.7.0->-r nb-requirements.txt (line 2)) (2.7.0)\n",
      "Requirement already satisfied: google-pasta>=0.1.1 in /opt/app-root/lib/python3.8/site-packages (from tensorflow==2.7.0->-r nb-requirements.txt (line 2)) (0.2.0)\n",
      "Requirement already satisfied: flatbuffers<3.0,>=1.12 in /opt/app-root/lib/python3.8/site-packages (from tensorflow==2.7.0->-r nb-requirements.txt (line 2)) (1.12)\n",
      "Requirement already satisfied: h5py>=2.9.0 in /opt/app-root/lib/python3.8/site-packages (from tensorflow==2.7.0->-r nb-requirements.txt (line 2)) (2.10.0)\n",
      "Requirement already satisfied: tensorflow-io-gcs-filesystem>=0.21.0 in /opt/app-root/lib/python3.8/site-packages (from tensorflow==2.7.0->-r nb-requirements.txt (line 2)) (0.27.0)\n",
      "Requirement already satisfied: opt-einsum>=2.3.2 in /opt/app-root/lib/python3.8/site-packages (from tensorflow==2.7.0->-r nb-requirements.txt (line 2)) (3.3.0)\n",
      "Requirement already satisfied: protobuf>=3.9.2 in /opt/app-root/lib/python3.8/site-packages (from tensorflow==2.7.0->-r nb-requirements.txt (line 2)) (3.20.1)\n",
      "Requirement already satisfied: keras-preprocessing>=1.1.1 in /opt/app-root/lib/python3.8/site-packages (from tensorflow==2.7.0->-r nb-requirements.txt (line 2)) (1.1.2)\n",
      "Requirement already satisfied: tensorboard~=2.6 in /opt/app-root/lib/python3.8/site-packages (from tensorflow==2.7.0->-r nb-requirements.txt (line 2)) (2.6.0)\n",
      "Requirement already satisfied: typing-extensions>=3.6.6 in /opt/app-root/lib/python3.8/site-packages (from tensorflow==2.7.0->-r nb-requirements.txt (line 2)) (3.7.4.3)\n",
      "Requirement already satisfied: astunparse>=1.6.0 in /opt/app-root/lib/python3.8/site-packages (from tensorflow==2.7.0->-r nb-requirements.txt (line 2)) (1.6.3)\n",
      "Requirement already satisfied: absl-py>=0.4.0 in /opt/app-root/lib/python3.8/site-packages (from tensorflow==2.7.0->-r nb-requirements.txt (line 2)) (0.15.0)\n",
      "Requirement already satisfied: wrapt>=1.11.0 in /opt/app-root/lib/python3.8/site-packages (from tensorflow==2.7.0->-r nb-requirements.txt (line 2)) (1.12.1)\n",
      "Requirement already satisfied: libclang>=9.0.1 in /opt/app-root/lib/python3.8/site-packages (from tensorflow==2.7.0->-r nb-requirements.txt (line 2)) (14.0.6)\n",
      "Requirement already satisfied: termcolor>=1.1.0 in /opt/app-root/lib/python3.8/site-packages (from tensorflow==2.7.0->-r nb-requirements.txt (line 2)) (1.1.0)\n",
      "Requirement already satisfied: gast<0.5.0,>=0.2.1 in /opt/app-root/lib/python3.8/site-packages (from tensorflow==2.7.0->-r nb-requirements.txt (line 2)) (0.3.3)\n",
      "Requirement already satisfied: six>=1.12.0 in /opt/app-root/lib/python3.8/site-packages (from tensorflow==2.7.0->-r nb-requirements.txt (line 2)) (1.15.0)\n",
      "Requirement already satisfied: wheel<1.0,>=0.32.0 in /opt/app-root/lib/python3.8/site-packages (from tensorflow==2.7.0->-r nb-requirements.txt (line 2)) (0.38.1)\n",
      "Requirement already satisfied: threadpoolctl>=2.0.0 in /opt/app-root/lib/python3.8/site-packages (from scikit-learn==0.24.1->-r nb-requirements.txt (line 3)) (3.1.0)\n",
      "Requirement already satisfied: joblib>=0.11 in /opt/app-root/lib/python3.8/site-packages (from scikit-learn==0.24.1->-r nb-requirements.txt (line 3)) (1.2.0)\n",
      "Requirement already satisfied: scipy>=0.19.1 in /opt/app-root/lib/python3.8/site-packages (from scikit-learn==0.24.1->-r nb-requirements.txt (line 3)) (1.6.2)\n",
      "Requirement already satisfied: python-dateutil>=2.7.3 in /opt/app-root/lib/python3.8/site-packages (from pandas==1.2.4->-r nb-requirements.txt (line 5)) (2.8.2)\n",
      "Requirement already satisfied: pytz>=2017.3 in /opt/app-root/lib/python3.8/site-packages (from pandas==1.2.4->-r nb-requirements.txt (line 5)) (2022.6)\n",
      "Requirement already satisfied: requests<3,>=2.21.0 in /opt/app-root/lib/python3.8/site-packages (from tensorboard~=2.6->tensorflow==2.7.0->-r nb-requirements.txt (line 2)) (2.28.1)\n",
      "Requirement already satisfied: tensorboard-plugin-wit>=1.6.0 in /opt/app-root/lib/python3.8/site-packages (from tensorboard~=2.6->tensorflow==2.7.0->-r nb-requirements.txt (line 2)) (1.8.1)\n",
      "Requirement already satisfied: google-auth<2,>=1.6.3 in /opt/app-root/lib/python3.8/site-packages (from tensorboard~=2.6->tensorflow==2.7.0->-r nb-requirements.txt (line 2)) (1.35.0)\n",
      "Requirement already satisfied: google-auth-oauthlib<0.5,>=0.4.1 in /opt/app-root/lib/python3.8/site-packages (from tensorboard~=2.6->tensorflow==2.7.0->-r nb-requirements.txt (line 2)) (0.4.6)\n",
      "Requirement already satisfied: markdown>=2.6.8 in /opt/app-root/lib/python3.8/site-packages (from tensorboard~=2.6->tensorflow==2.7.0->-r nb-requirements.txt (line 2)) (3.4.1)\n",
      "Requirement already satisfied: werkzeug>=0.11.15 in /opt/app-root/lib/python3.8/site-packages (from tensorboard~=2.6->tensorflow==2.7.0->-r nb-requirements.txt (line 2)) (2.2.2)\n",
      "Requirement already satisfied: tensorboard-data-server<0.7.0,>=0.6.0 in /opt/app-root/lib/python3.8/site-packages (from tensorboard~=2.6->tensorflow==2.7.0->-r nb-requirements.txt (line 2)) (0.6.1)\n",
      "Requirement already satisfied: setuptools>=41.0.0 in /opt/app-root/lib/python3.8/site-packages (from tensorboard~=2.6->tensorflow==2.7.0->-r nb-requirements.txt (line 2)) (65.5.0)\n",
      "Requirement already satisfied: pyasn1-modules>=0.2.1 in /opt/app-root/lib/python3.8/site-packages (from google-auth<2,>=1.6.3->tensorboard~=2.6->tensorflow==2.7.0->-r nb-requirements.txt (line 2)) (0.2.8)\n",
      "Requirement already satisfied: rsa<5,>=3.1.4 in /opt/app-root/lib/python3.8/site-packages (from google-auth<2,>=1.6.3->tensorboard~=2.6->tensorflow==2.7.0->-r nb-requirements.txt (line 2)) (4.9)\n",
      "Requirement already satisfied: cachetools<5.0,>=2.0.0 in /opt/app-root/lib/python3.8/site-packages (from google-auth<2,>=1.6.3->tensorboard~=2.6->tensorflow==2.7.0->-r nb-requirements.txt (line 2)) (4.2.4)\n",
      "Requirement already satisfied: requests-oauthlib>=0.7.0 in /opt/app-root/lib/python3.8/site-packages (from google-auth-oauthlib<0.5,>=0.4.1->tensorboard~=2.6->tensorflow==2.7.0->-r nb-requirements.txt (line 2)) (1.3.1)\n",
      "Requirement already satisfied: importlib-metadata>=4.4 in /opt/app-root/lib/python3.8/site-packages (from markdown>=2.6.8->tensorboard~=2.6->tensorflow==2.7.0->-r nb-requirements.txt (line 2)) (5.0.0)\n",
      "Requirement already satisfied: charset-normalizer<3,>=2 in /opt/app-root/lib/python3.8/site-packages (from requests<3,>=2.21.0->tensorboard~=2.6->tensorflow==2.7.0->-r nb-requirements.txt (line 2)) (2.1.1)\n",
      "Requirement already satisfied: certifi>=2017.4.17 in /opt/app-root/lib/python3.8/site-packages (from requests<3,>=2.21.0->tensorboard~=2.6->tensorflow==2.7.0->-r nb-requirements.txt (line 2)) (2022.9.24)\n",
      "Requirement already satisfied: idna<4,>=2.5 in /opt/app-root/lib/python3.8/site-packages (from requests<3,>=2.21.0->tensorboard~=2.6->tensorflow==2.7.0->-r nb-requirements.txt (line 2)) (3.4)\n",
      "Requirement already satisfied: urllib3<1.27,>=1.21.1 in /opt/app-root/lib/python3.8/site-packages (from requests<3,>=2.21.0->tensorboard~=2.6->tensorflow==2.7.0->-r nb-requirements.txt (line 2)) (1.26.12)\n",
      "Requirement already satisfied: MarkupSafe>=2.1.1 in /opt/app-root/lib/python3.8/site-packages (from werkzeug>=0.11.15->tensorboard~=2.6->tensorflow==2.7.0->-r nb-requirements.txt (line 2)) (2.1.1)\n",
      "Requirement already satisfied: zipp>=0.5 in /opt/app-root/lib/python3.8/site-packages (from importlib-metadata>=4.4->markdown>=2.6.8->tensorboard~=2.6->tensorflow==2.7.0->-r nb-requirements.txt (line 2)) (3.10.0)\n",
      "Requirement already satisfied: pyasn1<0.5.0,>=0.4.6 in /opt/app-root/lib/python3.8/site-packages (from pyasn1-modules>=0.2.1->google-auth<2,>=1.6.3->tensorboard~=2.6->tensorflow==2.7.0->-r nb-requirements.txt (line 2)) (0.4.8)\n",
      "Requirement already satisfied: oauthlib>=3.0.0 in /opt/app-root/lib/python3.8/site-packages (from requests-oauthlib>=0.7.0->google-auth-oauthlib<0.5,>=0.4.1->tensorboard~=2.6->tensorflow==2.7.0->-r nb-requirements.txt (line 2)) (3.2.2)\n",
      "\n",
      "\u001b[1m[\u001b[0m\u001b[34;49mnotice\u001b[0m\u001b[1;39;49m]\u001b[0m\u001b[39;49m A new release of pip available: \u001b[0m\u001b[31;49m22.3\u001b[0m\u001b[39;49m -> \u001b[0m\u001b[32;49m23.0.1\u001b[0m\n",
      "\u001b[1m[\u001b[0m\u001b[34;49mnotice\u001b[0m\u001b[1;39;49m]\u001b[0m\u001b[39;49m To update, run: \u001b[0m\u001b[32;49mpip install --upgrade pip\u001b[0m\n"
     ]
    }
   ],
   "source": [
    "!pip install -r nb-requirements.txt"
   ]
  },
  {
   "cell_type": "code",
   "execution_count": 2,
   "id": "1dc92b0e-7dcc-49a2-9068-7e6f048abf2c",
   "metadata": {},
   "outputs": [],
   "source": [
    "import numpy as np \n",
    "import pandas as pd\n",
    "from sklearn.preprocessing import LabelEncoder\n",
    "from tensorflow.keras.preprocessing.text import Tokenizer\n",
    "from tensorflow.keras.utils import to_categorical\n",
    "from tensorflow import keras\n",
    "\n",
    "\n",
    "training_portion = .80         # Use 80% of data for training, 20% for testing\n",
    "max_words        = 1000        # Max words in text input\n",
    "\n",
    "data             = pd.read_csv('dataset/testdata1.csv')"
   ]
  },
  {
   "cell_type": "code",
   "execution_count": 3,
   "id": "e7b6a23d-5a6b-42da-98bf-c44d888d1cf0",
   "metadata": {},
   "outputs": [
    {
     "data": {
      "text/html": [
       "<div>\n",
       "<style scoped>\n",
       "    .dataframe tbody tr th:only-of-type {\n",
       "        vertical-align: middle;\n",
       "    }\n",
       "\n",
       "    .dataframe tbody tr th {\n",
       "        vertical-align: top;\n",
       "    }\n",
       "\n",
       "    .dataframe thead th {\n",
       "        text-align: right;\n",
       "    }\n",
       "</style>\n",
       "<table border=\"1\" class=\"dataframe\">\n",
       "  <thead>\n",
       "    <tr style=\"text-align: right;\">\n",
       "      <th></th>\n",
       "      <th>When turning, the car evaluated.</th>\n",
       "      <th>other</th>\n",
       "    </tr>\n",
       "  </thead>\n",
       "  <tbody>\n",
       "    <tr>\n",
       "      <th>0</th>\n",
       "      <td>Cannot get the car doesn't start and doesn't r...</td>\n",
       "      <td>starter</td>\n",
       "    </tr>\n",
       "    <tr>\n",
       "      <th>1</th>\n",
       "      <td>The car won't shift out of the car.</td>\n",
       "      <td>other</td>\n",
       "    </tr>\n",
       "    <tr>\n",
       "      <th>2</th>\n",
       "      <td>It is more squealing or screeching sounds than...</td>\n",
       "      <td>brakes</td>\n",
       "    </tr>\n",
       "    <tr>\n",
       "      <th>3</th>\n",
       "      <td>Front right corner is dented from a collision.</td>\n",
       "      <td>other</td>\n",
       "    </tr>\n",
       "    <tr>\n",
       "      <th>4</th>\n",
       "      <td>my brakes make a terrible sound when stopping.</td>\n",
       "      <td>brakes</td>\n",
       "    </tr>\n",
       "    <tr>\n",
       "      <th>...</th>\n",
       "      <td>...</td>\n",
       "      <td>...</td>\n",
       "    </tr>\n",
       "    <tr>\n",
       "      <th>994</th>\n",
       "      <td>windshield wipers</td>\n",
       "      <td>other</td>\n",
       "    </tr>\n",
       "    <tr>\n",
       "      <th>995</th>\n",
       "      <td>Car dies when I stop at a light or stop sign a...</td>\n",
       "      <td>starter</td>\n",
       "    </tr>\n",
       "    <tr>\n",
       "      <th>996</th>\n",
       "      <td>windshield wipers</td>\n",
       "      <td>other</td>\n",
       "    </tr>\n",
       "    <tr>\n",
       "      <th>997</th>\n",
       "      <td>It then takes several clicks on the freeway.</td>\n",
       "      <td>other</td>\n",
       "    </tr>\n",
       "    <tr>\n",
       "      <th>998</th>\n",
       "      <td>It is more squealing or screeching sounds than...</td>\n",
       "      <td>brakes</td>\n",
       "    </tr>\n",
       "  </tbody>\n",
       "</table>\n",
       "<p>999 rows × 2 columns</p>\n",
       "</div>"
      ],
      "text/plain": [
       "                      When turning, the car evaluated.    other\n",
       "0    Cannot get the car doesn't start and doesn't r...  starter\n",
       "1                  The car won't shift out of the car.    other\n",
       "2    It is more squealing or screeching sounds than...   brakes\n",
       "3       Front right corner is dented from a collision.    other\n",
       "4       my brakes make a terrible sound when stopping.   brakes\n",
       "..                                                 ...      ...\n",
       "994                                  windshield wipers    other\n",
       "995  Car dies when I stop at a light or stop sign a...  starter\n",
       "996                                  windshield wipers    other\n",
       "997       It then takes several clicks on the freeway.    other\n",
       "998  It is more squealing or screeching sounds than...   brakes\n",
       "\n",
       "[999 rows x 2 columns]"
      ]
     },
     "execution_count": 3,
     "metadata": {},
     "output_type": "execute_result"
    }
   ],
   "source": [
    "data"
   ]
  },
  {
   "cell_type": "code",
   "execution_count": 4,
   "id": "a240a100-4d69-4eef-bbca-d6602e534f0d",
   "metadata": {},
   "outputs": [],
   "source": [
    "train_size       = int(len(data) * training_portion)\n",
    "\n",
    "def train_test_split(data, train_size):\n",
    "    train        = data[:train_size]\n",
    "    test         = data[train_size:]\n",
    "    return train, test\n",
    "\n",
    "train_cat, test_cat   = train_test_split(data.iloc[:,1], train_size)  # label data is second column\n",
    "train_text, test_text = train_test_split(data.iloc[:,0], train_size)  # text data is first column"
   ]
  },
  {
   "cell_type": "code",
   "execution_count": 6,
   "id": "a291bac9-5ed5-4400-a060-bae72e226915",
   "metadata": {},
   "outputs": [
    {
     "data": {
      "text/plain": [
       "0      Cannot get the car doesn't start and doesn't r...\n",
       "1                    The car won't shift out of the car.\n",
       "2      It is more squealing or screeching sounds than...\n",
       "3         Front right corner is dented from a collision.\n",
       "4         my brakes make a terrible sound when stopping.\n",
       "                             ...                        \n",
       "794    It then takes several clicks on the passenger ...\n",
       "795    I press the brakes a bit harder than I normall...\n",
       "796    And the brake and the car made horrible grindi...\n",
       "797         The car pulls to the air coming out of park.\n",
       "798                                  Spongy brake pedal.\n",
       "Name: When turning, the car evaluated., Length: 799, dtype: object"
      ]
     },
     "execution_count": 6,
     "metadata": {},
     "output_type": "execute_result"
    }
   ],
   "source": [
    "train_text"
   ]
  },
  {
   "cell_type": "code",
   "execution_count": null,
   "id": "16ad0208-9129-48b3-837f-724101640ac2",
   "metadata": {},
   "outputs": [],
   "source": []
  }
 ],
 "metadata": {
  "kernelspec": {
   "display_name": "Python 3",
   "language": "python",
   "name": "python3"
  },
  "language_info": {
   "codemirror_mode": {
    "name": "ipython",
    "version": 3
   },
   "file_extension": ".py",
   "mimetype": "text/x-python",
   "name": "python",
   "nbconvert_exporter": "python",
   "pygments_lexer": "ipython3",
   "version": "3.8.13"
  }
 },
 "nbformat": 4,
 "nbformat_minor": 5
}
